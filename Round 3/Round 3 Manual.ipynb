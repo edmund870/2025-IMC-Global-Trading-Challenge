{
 "cells": [
  {
   "cell_type": "markdown",
   "metadata": {},
   "source": [
    "# Round 2 Manual Challenge"
   ]
  },
  {
   "cell_type": "markdown",
   "metadata": {},
   "source": [
    "A large group of Sea Turtles is visiting our island, trying to sell their Flippers. For a reasonable price of course.\n",
    "\n",
    "You only have two chances to offer a good price. Each one of the Sea Turtles will accept the lowest bid that is over their reserve price. For your second bid only, the Sea Turtles also take into account the average of all second bids from traders across the archipelago. They’ll trade with you when your offer is above the average of all second bids.\n",
    "\n",
    "There’s a constant desire for Flippers on the archipelago. So, at the end of the round, you’ll be able to sell them for 320 SeaShells a piece. Your goal is to set prices that ensure a profitable trade with as many Sea Turtles as possible."
   ]
  },
  {
   "cell_type": "code",
   "execution_count": 1,
   "metadata": {},
   "outputs": [],
   "source": [
    "import numpy as np\n",
    "from numba import njit, prange\n",
    "from scipy.optimize import minimize"
   ]
  },
  {
   "cell_type": "code",
   "execution_count": null,
   "metadata": {},
   "outputs": [
    {
     "name": "stderr",
     "output_type": "stream",
     "text": [
      "C:\\Users\\edmun\\AppData\\Local\\Temp\\ipykernel_27976\\376701370.py:22: OptimizeWarning: Initial guess is not within the specified bounds\n",
      "  result = minimize(objective, initial_guess, method = 'Powell', bounds = ((161, 320), (161, 320)))\n",
      "C:\\Users\\edmun\\AppData\\Local\\Temp\\ipykernel_27976\\376701370.py:14: RuntimeWarning: divide by zero encountered in scalar divide\n",
      "  np.where((y > reserve_price) & (y < average_price), ((320 - average_price) / (320 - y)) **3 * y,\n"
     ]
    },
    {
     "name": "stdout",
     "output_type": "stream",
     "text": [
      "[268.40372759 282.523476  ] -6375631790.905792\n",
      "[282.58081265 296.80422006] -6348936212.377902\n"
     ]
    },
    {
     "name": "stderr",
     "output_type": "stream",
     "text": [
      "C:\\Users\\edmun\\AppData\\Local\\Temp\\ipykernel_27976\\376701370.py:14: RuntimeWarning: invalid value encountered in scalar divide\n",
      "  np.where((y > reserve_price) & (y < average_price), ((320 - average_price) / (320 - y)) **3 * y,\n"
     ]
    },
    {
     "name": "stdout",
     "output_type": "stream",
     "text": [
      "[270.03496101 283.11157577] -6147514771.870616\n",
      "[268.28914952 282.47895066] -6380874257.109659\n",
      "[257.89535767 259.52655332] -2767334980.2736363\n",
      "[229.35112516 161.00153354] 0\n",
      "[274.05376145 286.89557473] -5844075553.0725155\n",
      "[268.00376876 281.99475318] -6072065157.3309965\n",
      "[273.56835282 283.06900653] -5241505643.757602\n",
      "[268.08975732 283.51106317] -6680280390.531668\n"
     ]
    }
   ],
   "source": [
    "outcomes = np.arange(160, 321, 1)\n",
    "proba = np.arange(0, 1.01, 1/159)\n",
    "proba_norm = (proba / proba.sum())\n",
    "\n",
    "reserve_price = np.random.choice(outcomes, size = 100000000, p = proba_norm)\n",
    "\n",
    "def objective(vars):\n",
    "    x,y = vars\n",
    "    average_price = np.random.choice(outcomes)\n",
    "    if y < x or (200 < y < 250) or (200 < x < 250): \n",
    "        return 0\n",
    "    else:\n",
    "        holding = np.where(x > reserve_price, x,\n",
    "                        np.where((y > reserve_price) & (y < average_price), ((320 - average_price) / (320 - y)) **3 * y, \n",
    "                                 np.where((y > reserve_price) & (y < average_price), y, 320)))\n",
    "        profit = (320 - holding).sum()\n",
    "        return -profit\n",
    "\n",
    "initial_guess = [160, 320]\n",
    "\n",
    "for _ in range(10):\n",
    "    result = minimize(objective, initial_guess, method = 'Powell', bounds = ((161, 320), (161, 320)))\n",
    "\n",
    "    print(result.x, result.fun)"
   ]
  },
  {
   "cell_type": "code",
   "execution_count": 2,
   "metadata": {},
   "outputs": [],
   "source": [
    "outcomes = np.arange(250, 321, 1)\n",
    "proba = np.arange(0, 1.01, 1/70)\n",
    "proba_norm = (proba / proba.sum())\n",
    "\n",
    "reserve_price = np.random.choice(outcomes, size = 100000000, p = proba_norm)\n",
    "\n",
    "@njit\n",
    "def objective(vars):\n",
    "    y = vars\n",
    "    average_price = np.random.choice(outcomes)\n",
    "    \n",
    "    holding = np.where(y > reserve_price, y,\n",
    "                    np.where((y > reserve_price) & (y < average_price), ((320 - average_price) / (320 - y)) **3 * y, \n",
    "                                np.where((y > reserve_price) & (y < average_price), y, 320)))\n",
    "    profit = (320 - holding).sum()\n",
    "    return profit\n",
    "\n",
    "initial_guess = [250]\n",
    "\n",
    "@njit\n",
    "def simulate():\n",
    "    avg = {}\n",
    "    n = 5\n",
    "    for i in prange(len(outcomes)):\n",
    "        result = []\n",
    "        for _ in prange(n):\n",
    "            result.append(objective(outcomes[i]))\n",
    "\n",
    "        avg[i] = sum(result) / n\n",
    "    return avg"
   ]
  },
  {
   "cell_type": "code",
   "execution_count": null,
   "metadata": {},
   "outputs": [],
   "source": [
    "simulate()"
   ]
  }
 ],
 "metadata": {
  "kernelspec": {
   "display_name": "base",
   "language": "python",
   "name": "python3"
  },
  "language_info": {
   "codemirror_mode": {
    "name": "ipython",
    "version": 3
   },
   "file_extension": ".py",
   "mimetype": "text/x-python",
   "name": "python",
   "nbconvert_exporter": "python",
   "pygments_lexer": "ipython3",
   "version": "3.12.3"
  }
 },
 "nbformat": 4,
 "nbformat_minor": 2
}
