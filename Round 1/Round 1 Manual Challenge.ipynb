{
 "cells": [
  {
   "cell_type": "markdown",
   "metadata": {},
   "source": [
    "# Round 1 Manual Challenge"
   ]
  },
  {
   "cell_type": "markdown",
   "metadata": {},
   "source": [
    "Today is a special day. Representatives from three other archipelagos are visiting to trade their currencies with us. You can trade Wasabi roots with Sing the Songbird, Pizza slices with Devin the Duck, and Snowballs with Pam the Penguin.\n",
    "\n",
    "Your objective is to trade these currencies and maximize your profit in SeaShells. The number of trades is limited to 5. You must begin your first trade and end your last trade with our own currency; SeaShells. Use the trading table to develop your trading strategy, and use the drop down fields to translate your strategy into actionable input."
   ]
  },
  {
   "cell_type": "markdown",
   "metadata": {},
   "source": [
    "![Trading Table.png](<Trading Table.png>)\n",
    "\n",
    "The trading table below shows you the exchange rates from one currency to another. For example: For every Snowball you trade for Pizzas, you will get 1.45 Pizzas in return."
   ]
  },
  {
   "cell_type": "code",
   "execution_count": 1,
   "metadata": {},
   "outputs": [],
   "source": [
    "import pandas as pd\n",
    "from itertools import product\n",
    "pd.options.display.float_format = \"{:,.20f}\".format"
   ]
  },
  {
   "cell_type": "code",
   "execution_count": 2,
   "metadata": {},
   "outputs": [],
   "source": [
    "fx = {\n",
    "    'Snowball' : {\n",
    "        'Snowball' : 1,\n",
    "        'Pizza' : 1.45, \n",
    "        'Silicon Nugget': 0.52, \n",
    "        'SeaShells' : 0.72\n",
    "    },\n",
    "    'Pizza' : {\n",
    "        'Snowball' : 0.7,\n",
    "        'Pizza' : 1, \n",
    "        'Silicon Nugget': 0.31, \n",
    "        'SeaShells' : 0.48\n",
    "    },\n",
    "    'Silicon Nugget' : {\n",
    "        'Snowball' : 1.95,\n",
    "        'Pizza' : 3.1, \n",
    "        'Silicon Nugget': 1, \n",
    "        'SeaShells' : 1.49\n",
    "    },\n",
    "    'SeaShells' : {\n",
    "        'Snowball' : 1.34,\n",
    "        'Pizza' : 1.98, \n",
    "        'Silicon Nugget': 0.64, \n",
    "        'SeaShells' : 1\n",
    "    },\n",
    "}"
   ]
  },
  {
   "cell_type": "code",
   "execution_count": 3,
   "metadata": {},
   "outputs": [
    {
     "name": "stdout",
     "output_type": "stream",
     "text": [
      "['SeaShells', 'Snowball', 'Silicon Nugget', 'Pizza', 'Snowball', 'SeaShells'] 1.08868032\n"
     ]
    }
   ],
   "source": [
    "items = ['Snowball', 'Pizza', 'Silicon Nugget', 'SeaShells']\n",
    "ans = {}\n",
    "prev_value = 0\n",
    "\n",
    "# maximum trades is 5\n",
    "for repeat in range(1, 5):\n",
    "    \n",
    "    for p in product(items, repeat = repeat):\n",
    "        p = list(p)\n",
    "\n",
    "        # first and last trade needs to be shells\n",
    "        p = ['SeaShells'] + p + ['SeaShells']\n",
    "\n",
    "        final_value = 1\n",
    "        for i in range(0, len(p) - 1):\n",
    "            exchange_from = p[i]\n",
    "            exchange_to = p[i+1]\n",
    "            final_value *= fx[exchange_from][exchange_to] \n",
    "\n",
    "        if final_value > prev_value:\n",
    "            combi, value = p, final_value\n",
    "            prev_value = final_value\n",
    "            \n",
    "        ans[str(p)] = final_value\n",
    "\n",
    "print(combi, value)"
   ]
  }
 ],
 "metadata": {
  "kernelspec": {
   "display_name": "base",
   "language": "python",
   "name": "python3"
  },
  "language_info": {
   "codemirror_mode": {
    "name": "ipython",
    "version": 3
   },
   "file_extension": ".py",
   "mimetype": "text/x-python",
   "name": "python",
   "nbconvert_exporter": "python",
   "pygments_lexer": "ipython3",
   "version": "3.12.3"
  }
 },
 "nbformat": 4,
 "nbformat_minor": 2
}
